{
 "cells": [
  {
   "cell_type": "code",
   "execution_count": 3,
   "id": "52da3969",
   "metadata": {},
   "outputs": [],
   "source": [
    "import os \n",
    "from glob import glob \n",
    "import pandas as pd \n",
    "from functools import reduce \n",
    "from xml.etree import ElementTree as et "
   ]
  },
  {
   "cell_type": "code",
   "execution_count": 4,
   "id": "d62e203b",
   "metadata": {},
   "outputs": [],
   "source": [
    "xmlfiles = glob(r'C:\\\\Users\\\\Aditya\\\\Projects\\\\TY projects\\\\datapreparation\\\\data_images\\\\*.xml')\n",
    "#data cleaning \n",
    "replace_text = lambda x: x.replace('\\\\','//')\n",
    "xmlfiles = list(map(replace_text,xmlfiles))"
   ]
  },
  {
   "cell_type": "code",
   "execution_count": 5,
   "id": "7ebeacd5",
   "metadata": {
    "scrolled": true
   },
   "outputs": [
    {
     "data": {
      "text/plain": [
       "['C:////Users////Aditya////Projects////TY projects////datapreparation////data_images//001.xml',\n",
       " 'C:////Users////Aditya////Projects////TY projects////datapreparation////data_images//002.xml',\n",
       " 'C:////Users////Aditya////Projects////TY projects////datapreparation////data_images//003.xml',\n",
       " 'C:////Users////Aditya////Projects////TY projects////datapreparation////data_images//004.xml',\n",
       " 'C:////Users////Aditya////Projects////TY projects////datapreparation////data_images//005.xml',\n",
       " 'C:////Users////Aditya////Projects////TY projects////datapreparation////data_images//006.xml',\n",
       " 'C:////Users////Aditya////Projects////TY projects////datapreparation////data_images//007.xml',\n",
       " 'C:////Users////Aditya////Projects////TY projects////datapreparation////data_images//008.xml',\n",
       " 'C:////Users////Aditya////Projects////TY projects////datapreparation////data_images//009.xml',\n",
       " 'C:////Users////Aditya////Projects////TY projects////datapreparation////data_images//010.xml']"
      ]
     },
     "execution_count": 5,
     "metadata": {},
     "output_type": "execute_result"
    }
   ],
   "source": [
    "xmlfiles"
   ]
  },
  {
   "cell_type": "code",
   "execution_count": 6,
   "id": "f75e0150",
   "metadata": {},
   "outputs": [],
   "source": [
    "#read xml file and extract details \n",
    "tree = et.parse('C://Users//Aditya//Projects//TY projects//datapreparation//data_images//001.xml')\n",
    "root = tree.getroot()"
   ]
  },
  {
   "cell_type": "code",
   "execution_count": null,
   "id": "49cbf3c6",
   "metadata": {},
   "outputs": [],
   "source": []
  },
  {
   "cell_type": "code",
   "execution_count": 7,
   "id": "630c76e8",
   "metadata": {},
   "outputs": [],
   "source": [
    "def extract_text(filename):\n",
    "    tree = et.parse(filename)  # Use the provided filename\n",
    "    root = tree.getroot()\n",
    "    \n",
    "    # Extract file details\n",
    "    image_name = root.find('filename').text\n",
    "    \n",
    "    # Width and height\n",
    "    size = root.find('size')\n",
    "    width = size.find('width').text\n",
    "    height = size.find('height').text\n",
    "    parser = []\n",
    "    # Extract annotations\n",
    "    objs = root.findall('object')\n",
    "    for obj in objs:\n",
    "        name = obj.find('name').text\n",
    "        bbox = obj.find('bndbox')\n",
    "        xmin = bbox.find('xmin').text\n",
    "        ymin = bbox.find('ymin').text\n",
    "        xmax = bbox.find('xmax').text\n",
    "        ymax = bbox.find('ymax').text\n",
    "        parser.append([name,width,height,xmin,xmax,ymin,ymax ])\n",
    "    \n",
    "    return parser\n"
   ]
  },
  {
   "cell_type": "code",
   "execution_count": 8,
   "id": "29a59b7c",
   "metadata": {},
   "outputs": [],
   "source": [
    "parser_all = list(map(extract_text,xmlfiles))"
   ]
  },
  {
   "cell_type": "code",
   "execution_count": 9,
   "id": "9ddc0723",
   "metadata": {},
   "outputs": [],
   "source": [
    "data = reduce(lambda x,y : x+y,parser_all)"
   ]
  },
  {
   "cell_type": "code",
   "execution_count": 10,
   "id": "70f08d90",
   "metadata": {},
   "outputs": [],
   "source": [
    "df = pd.DataFrame(data,columns = ['name','width','height','xmin','xmax','ymin','ymax'])\n"
   ]
  },
  {
   "cell_type": "code",
   "execution_count": 11,
   "id": "ffc5cec6",
   "metadata": {},
   "outputs": [
    {
     "data": {
      "text/html": [
       "<div>\n",
       "<style scoped>\n",
       "    .dataframe tbody tr th:only-of-type {\n",
       "        vertical-align: middle;\n",
       "    }\n",
       "\n",
       "    .dataframe tbody tr th {\n",
       "        vertical-align: top;\n",
       "    }\n",
       "\n",
       "    .dataframe thead th {\n",
       "        text-align: right;\n",
       "    }\n",
       "</style>\n",
       "<table border=\"1\" class=\"dataframe\">\n",
       "  <thead>\n",
       "    <tr style=\"text-align: right;\">\n",
       "      <th></th>\n",
       "      <th>name</th>\n",
       "      <th>width</th>\n",
       "      <th>height</th>\n",
       "      <th>xmin</th>\n",
       "      <th>xmax</th>\n",
       "      <th>ymin</th>\n",
       "      <th>ymax</th>\n",
       "    </tr>\n",
       "  </thead>\n",
       "  <tbody>\n",
       "    <tr>\n",
       "      <th>0</th>\n",
       "      <td>car</td>\n",
       "      <td>1920</td>\n",
       "      <td>1200</td>\n",
       "      <td>88</td>\n",
       "      <td>1770</td>\n",
       "      <td>128</td>\n",
       "      <td>1082</td>\n",
       "    </tr>\n",
       "    <tr>\n",
       "      <th>1</th>\n",
       "      <td>car</td>\n",
       "      <td>1280</td>\n",
       "      <td>821</td>\n",
       "      <td>17</td>\n",
       "      <td>391</td>\n",
       "      <td>387</td>\n",
       "      <td>641</td>\n",
       "    </tr>\n",
       "    <tr>\n",
       "      <th>2</th>\n",
       "      <td>car</td>\n",
       "      <td>1280</td>\n",
       "      <td>821</td>\n",
       "      <td>321</td>\n",
       "      <td>733</td>\n",
       "      <td>405</td>\n",
       "      <td>615</td>\n",
       "    </tr>\n",
       "    <tr>\n",
       "      <th>3</th>\n",
       "      <td>car</td>\n",
       "      <td>1280</td>\n",
       "      <td>821</td>\n",
       "      <td>619</td>\n",
       "      <td>1027</td>\n",
       "      <td>408</td>\n",
       "      <td>586</td>\n",
       "    </tr>\n",
       "    <tr>\n",
       "      <th>4</th>\n",
       "      <td>car</td>\n",
       "      <td>1280</td>\n",
       "      <td>821</td>\n",
       "      <td>880</td>\n",
       "      <td>1280</td>\n",
       "      <td>405</td>\n",
       "      <td>583</td>\n",
       "    </tr>\n",
       "  </tbody>\n",
       "</table>\n",
       "</div>"
      ],
      "text/plain": [
       "  name width height xmin  xmax ymin  ymax\n",
       "0  car  1920   1200   88  1770  128  1082\n",
       "1  car  1280    821   17   391  387   641\n",
       "2  car  1280    821  321   733  405   615\n",
       "3  car  1280    821  619  1027  408   586\n",
       "4  car  1280    821  880  1280  405   583"
      ]
     },
     "execution_count": 11,
     "metadata": {},
     "output_type": "execute_result"
    }
   ],
   "source": [
    "df.head()"
   ]
  },
  {
   "cell_type": "code",
   "execution_count": 12,
   "id": "3ed96ef2",
   "metadata": {},
   "outputs": [
    {
     "data": {
      "text/plain": [
       "(24, 7)"
      ]
     },
     "execution_count": 12,
     "metadata": {},
     "output_type": "execute_result"
    }
   ],
   "source": [
    "df.shape"
   ]
  },
  {
   "cell_type": "code",
   "execution_count": 13,
   "id": "5e0c9070",
   "metadata": {},
   "outputs": [
    {
     "data": {
      "text/plain": [
       "person      8\n",
       "car         5\n",
       "horse       3\n",
       "bike        2\n",
       "dog         1\n",
       "bicycle     1\n",
       "giraffe     1\n",
       "zebra       1\n",
       "elephant    1\n",
       "eagle       1\n",
       "Name: name, dtype: int64"
      ]
     },
     "execution_count": 13,
     "metadata": {},
     "output_type": "execute_result"
    }
   ],
   "source": [
    "df['name'].value_counts()\n"
   ]
  },
  {
   "cell_type": "code",
   "execution_count": null,
   "id": "1aeb0bc6",
   "metadata": {},
   "outputs": [],
   "source": []
  },
  {
   "cell_type": "code",
   "execution_count": 14,
   "id": "86ea0b8e",
   "metadata": {},
   "outputs": [
    {
     "name": "stdout",
     "output_type": "stream",
     "text": [
      "<class 'pandas.core.frame.DataFrame'>\n",
      "RangeIndex: 24 entries, 0 to 23\n",
      "Data columns (total 7 columns):\n",
      " #   Column  Non-Null Count  Dtype \n",
      "---  ------  --------------  ----- \n",
      " 0   name    24 non-null     object\n",
      " 1   width   24 non-null     object\n",
      " 2   height  24 non-null     object\n",
      " 3   xmin    24 non-null     object\n",
      " 4   xmax    24 non-null     object\n",
      " 5   ymin    24 non-null     object\n",
      " 6   ymax    24 non-null     object\n",
      "dtypes: object(7)\n",
      "memory usage: 1.4+ KB\n"
     ]
    }
   ],
   "source": [
    "df.info()"
   ]
  },
  {
   "cell_type": "code",
   "execution_count": 15,
   "id": "f83b1a7a",
   "metadata": {},
   "outputs": [],
   "source": [
    "# Convert columns to numeric type\n",
    "df['xmax'] = pd.to_numeric(df['xmax'])\n",
    "df['xmin'] = pd.to_numeric(df['xmin'])\n",
    "df['ymax'] = pd.to_numeric(df['ymax'])\n",
    "df['ymin'] = pd.to_numeric(df['ymin'])\n",
    "df['width'] = pd.to_numeric(df['width'])\n",
    "df['height'] = pd.to_numeric(df['height'])"
   ]
  },
  {
   "cell_type": "code",
   "execution_count": 16,
   "id": "6edb3133",
   "metadata": {
    "scrolled": true
   },
   "outputs": [],
   "source": [
    "df['center_x'] = ((df['xmax']+df['xmin'])/2)/df['width']\n",
    "df['center_y'] = ((df['ymax']+df['ymin'])/2)/df['height']\n",
    "                  \n",
    "df['w'] = (df['xmax'] - df['xmin']) / df['width']\n",
    "\n",
    "df['h'] = (df['ymax'] - df['ymin']) / df['height']"
   ]
  },
  {
   "cell_type": "code",
   "execution_count": 17,
   "id": "9bf78084",
   "metadata": {},
   "outputs": [
    {
     "data": {
      "text/html": [
       "<div>\n",
       "<style scoped>\n",
       "    .dataframe tbody tr th:only-of-type {\n",
       "        vertical-align: middle;\n",
       "    }\n",
       "\n",
       "    .dataframe tbody tr th {\n",
       "        vertical-align: top;\n",
       "    }\n",
       "\n",
       "    .dataframe thead th {\n",
       "        text-align: right;\n",
       "    }\n",
       "</style>\n",
       "<table border=\"1\" class=\"dataframe\">\n",
       "  <thead>\n",
       "    <tr style=\"text-align: right;\">\n",
       "      <th></th>\n",
       "      <th>name</th>\n",
       "      <th>width</th>\n",
       "      <th>height</th>\n",
       "      <th>xmin</th>\n",
       "      <th>xmax</th>\n",
       "      <th>ymin</th>\n",
       "      <th>ymax</th>\n",
       "      <th>center_x</th>\n",
       "      <th>center_y</th>\n",
       "      <th>w</th>\n",
       "      <th>h</th>\n",
       "    </tr>\n",
       "  </thead>\n",
       "  <tbody>\n",
       "    <tr>\n",
       "      <th>0</th>\n",
       "      <td>car</td>\n",
       "      <td>1920</td>\n",
       "      <td>1200</td>\n",
       "      <td>88</td>\n",
       "      <td>1770</td>\n",
       "      <td>128</td>\n",
       "      <td>1082</td>\n",
       "      <td>0.483854</td>\n",
       "      <td>0.504167</td>\n",
       "      <td>0.876042</td>\n",
       "      <td>0.795000</td>\n",
       "    </tr>\n",
       "    <tr>\n",
       "      <th>1</th>\n",
       "      <td>car</td>\n",
       "      <td>1280</td>\n",
       "      <td>821</td>\n",
       "      <td>17</td>\n",
       "      <td>391</td>\n",
       "      <td>387</td>\n",
       "      <td>641</td>\n",
       "      <td>0.159375</td>\n",
       "      <td>0.626066</td>\n",
       "      <td>0.292187</td>\n",
       "      <td>0.309379</td>\n",
       "    </tr>\n",
       "    <tr>\n",
       "      <th>2</th>\n",
       "      <td>car</td>\n",
       "      <td>1280</td>\n",
       "      <td>821</td>\n",
       "      <td>321</td>\n",
       "      <td>733</td>\n",
       "      <td>405</td>\n",
       "      <td>615</td>\n",
       "      <td>0.411719</td>\n",
       "      <td>0.621194</td>\n",
       "      <td>0.321875</td>\n",
       "      <td>0.255786</td>\n",
       "    </tr>\n",
       "    <tr>\n",
       "      <th>3</th>\n",
       "      <td>car</td>\n",
       "      <td>1280</td>\n",
       "      <td>821</td>\n",
       "      <td>619</td>\n",
       "      <td>1027</td>\n",
       "      <td>408</td>\n",
       "      <td>586</td>\n",
       "      <td>0.642969</td>\n",
       "      <td>0.605359</td>\n",
       "      <td>0.318750</td>\n",
       "      <td>0.216809</td>\n",
       "    </tr>\n",
       "    <tr>\n",
       "      <th>4</th>\n",
       "      <td>car</td>\n",
       "      <td>1280</td>\n",
       "      <td>821</td>\n",
       "      <td>880</td>\n",
       "      <td>1280</td>\n",
       "      <td>405</td>\n",
       "      <td>583</td>\n",
       "      <td>0.843750</td>\n",
       "      <td>0.601705</td>\n",
       "      <td>0.312500</td>\n",
       "      <td>0.216809</td>\n",
       "    </tr>\n",
       "  </tbody>\n",
       "</table>\n",
       "</div>"
      ],
      "text/plain": [
       "  name  width  height  xmin  xmax  ymin  ymax  center_x  center_y         w  \\\n",
       "0  car   1920    1200    88  1770   128  1082  0.483854  0.504167  0.876042   \n",
       "1  car   1280     821    17   391   387   641  0.159375  0.626066  0.292187   \n",
       "2  car   1280     821   321   733   405   615  0.411719  0.621194  0.321875   \n",
       "3  car   1280     821   619  1027   408   586  0.642969  0.605359  0.318750   \n",
       "4  car   1280     821   880  1280   405   583  0.843750  0.601705  0.312500   \n",
       "\n",
       "          h  \n",
       "0  0.795000  \n",
       "1  0.309379  \n",
       "2  0.255786  \n",
       "3  0.216809  \n",
       "4  0.216809  "
      ]
     },
     "execution_count": 17,
     "metadata": {},
     "output_type": "execute_result"
    }
   ],
   "source": [
    "df.head()"
   ]
  },
  {
   "cell_type": "code",
   "execution_count": 18,
   "id": "54026574",
   "metadata": {},
   "outputs": [],
   "source": [
    "#Split data into train and test "
   ]
  },
  {
   "cell_type": "code",
   "execution_count": 19,
   "id": "9c375de6",
   "metadata": {},
   "outputs": [
    {
     "data": {
      "text/plain": [
       "0          car\n",
       "1          car\n",
       "2          car\n",
       "3          car\n",
       "4          car\n",
       "5          dog\n",
       "6      bicycle\n",
       "7      giraffe\n",
       "8        zebra\n",
       "9     elephant\n",
       "10       eagle\n",
       "11       horse\n",
       "12       horse\n",
       "13       horse\n",
       "14      person\n",
       "15      person\n",
       "16      person\n",
       "17      person\n",
       "18      person\n",
       "19      person\n",
       "20      person\n",
       "21      person\n",
       "22        bike\n",
       "23        bike\n",
       "Name: name, dtype: object"
      ]
     },
     "execution_count": 19,
     "metadata": {},
     "output_type": "execute_result"
    }
   ],
   "source": [
    "df['name']"
   ]
  },
  {
   "cell_type": "code",
   "execution_count": 20,
   "id": "859d32a0",
   "metadata": {},
   "outputs": [
    {
     "name": "stdout",
     "output_type": "stream",
     "text": [
      "Index(['name', 'width', 'height', 'xmin', 'xmax', 'ymin', 'ymax', 'center_x',\n",
      "       'center_y', 'w', 'h'],\n",
      "      dtype='object')\n"
     ]
    }
   ],
   "source": [
    "print(df.columns)\n"
   ]
  },
  {
   "cell_type": "code",
   "execution_count": 21,
   "id": "d8a5dd25",
   "metadata": {},
   "outputs": [
    {
     "name": "stdout",
     "output_type": "stream",
     "text": [
      "24\n"
     ]
    }
   ],
   "source": [
    "\n",
    "\n",
    "# Using shape attribute\n",
    "print(df.shape[0])\n"
   ]
  },
  {
   "cell_type": "code",
   "execution_count": 22,
   "id": "39c69984",
   "metadata": {},
   "outputs": [],
   "source": [
    "image = df['name'].unique()"
   ]
  },
  {
   "cell_type": "code",
   "execution_count": 23,
   "id": "a741abcd",
   "metadata": {},
   "outputs": [
    {
     "data": {
      "text/plain": [
       "10"
      ]
     },
     "execution_count": 23,
     "metadata": {},
     "output_type": "execute_result"
    }
   ],
   "source": [
    "len(image)"
   ]
  },
  {
   "cell_type": "code",
   "execution_count": 24,
   "id": "97196c5f",
   "metadata": {},
   "outputs": [],
   "source": [
    "img_df = pd.DataFrame(image,columns=['filename'])\n",
    "img_train = tuple(img_df.sample(frac=0.8)['filename'])"
   ]
  },
  {
   "cell_type": "code",
   "execution_count": 25,
   "id": "34448ef2",
   "metadata": {},
   "outputs": [
    {
     "data": {
      "text/plain": [
       "('bicycle', 'giraffe', 'dog', 'zebra', 'person', 'eagle', 'bike', 'elephant')"
      ]
     },
     "execution_count": 25,
     "metadata": {},
     "output_type": "execute_result"
    }
   ],
   "source": [
    "img_train"
   ]
  },
  {
   "cell_type": "code",
   "execution_count": 26,
   "id": "d65bde5e",
   "metadata": {},
   "outputs": [],
   "source": [
    "img_test = tuple(img_df.query(f'filename not in{img_train}')['filename'])"
   ]
  },
  {
   "cell_type": "code",
   "execution_count": 27,
   "id": "e14d0ece",
   "metadata": {},
   "outputs": [
    {
     "data": {
      "text/plain": [
       "(8, 2)"
      ]
     },
     "execution_count": 27,
     "metadata": {},
     "output_type": "execute_result"
    }
   ],
   "source": [
    "len(img_train),len(img_test)"
   ]
  },
  {
   "cell_type": "code",
   "execution_count": 28,
   "id": "a87c1627",
   "metadata": {},
   "outputs": [
    {
     "name": "stdout",
     "output_type": "stream",
     "text": [
      "('car', 'horse')\n"
     ]
    }
   ],
   "source": [
    "print(img_test)"
   ]
  },
  {
   "cell_type": "code",
   "execution_count": 29,
   "id": "734d898c",
   "metadata": {},
   "outputs": [
    {
     "name": "stdout",
     "output_type": "stream",
     "text": [
      "  name  width  height  xmin  xmax  ymin  ymax  center_x  center_y         w  \\\n",
      "0  car   1920    1200    88  1770   128  1082  0.483854  0.504167  0.876042   \n",
      "1  car   1280     821    17   391   387   641  0.159375  0.626066  0.292187   \n",
      "2  car   1280     821   321   733   405   615  0.411719  0.621194  0.321875   \n",
      "3  car   1280     821   619  1027   408   586  0.642969  0.605359  0.318750   \n",
      "4  car   1280     821   880  1280   405   583  0.843750  0.601705  0.312500   \n",
      "\n",
      "          h  \n",
      "0  0.795000  \n",
      "1  0.309379  \n",
      "2  0.255786  \n",
      "3  0.216809  \n",
      "4  0.216809  \n",
      "Index(['name', 'width', 'height', 'xmin', 'xmax', 'ymin', 'ymax', 'center_x',\n",
      "       'center_y', 'w', 'h'],\n",
      "      dtype='object')\n"
     ]
    }
   ],
   "source": [
    "print(df.head())  # Inspect the first few rows of the DataFrame\n",
    "print(df.columns)  # List all columns in the DataFrame\n"
   ]
  },
  {
   "cell_type": "code",
   "execution_count": 30,
   "id": "e5988860",
   "metadata": {},
   "outputs": [],
   "source": [
    "train_df = df.query(f'name in {img_train}')\n",
    "test_df = df.query(f'name in {img_test}')"
   ]
  },
  {
   "cell_type": "code",
   "execution_count": null,
   "id": "2bbce6df",
   "metadata": {},
   "outputs": [],
   "source": []
  },
  {
   "cell_type": "code",
   "execution_count": 31,
   "id": "59d46428",
   "metadata": {},
   "outputs": [
    {
     "data": {
      "text/html": [
       "<div>\n",
       "<style scoped>\n",
       "    .dataframe tbody tr th:only-of-type {\n",
       "        vertical-align: middle;\n",
       "    }\n",
       "\n",
       "    .dataframe tbody tr th {\n",
       "        vertical-align: top;\n",
       "    }\n",
       "\n",
       "    .dataframe thead th {\n",
       "        text-align: right;\n",
       "    }\n",
       "</style>\n",
       "<table border=\"1\" class=\"dataframe\">\n",
       "  <thead>\n",
       "    <tr style=\"text-align: right;\">\n",
       "      <th></th>\n",
       "      <th>name</th>\n",
       "      <th>width</th>\n",
       "      <th>height</th>\n",
       "      <th>xmin</th>\n",
       "      <th>xmax</th>\n",
       "      <th>ymin</th>\n",
       "      <th>ymax</th>\n",
       "      <th>center_x</th>\n",
       "      <th>center_y</th>\n",
       "      <th>w</th>\n",
       "      <th>h</th>\n",
       "    </tr>\n",
       "  </thead>\n",
       "  <tbody>\n",
       "    <tr>\n",
       "      <th>5</th>\n",
       "      <td>dog</td>\n",
       "      <td>768</td>\n",
       "      <td>576</td>\n",
       "      <td>120</td>\n",
       "      <td>329</td>\n",
       "      <td>193</td>\n",
       "      <td>556</td>\n",
       "      <td>0.292318</td>\n",
       "      <td>0.650174</td>\n",
       "      <td>0.272135</td>\n",
       "      <td>0.630208</td>\n",
       "    </tr>\n",
       "    <tr>\n",
       "      <th>6</th>\n",
       "      <td>bicycle</td>\n",
       "      <td>768</td>\n",
       "      <td>576</td>\n",
       "      <td>115</td>\n",
       "      <td>580</td>\n",
       "      <td>98</td>\n",
       "      <td>434</td>\n",
       "      <td>0.452474</td>\n",
       "      <td>0.461806</td>\n",
       "      <td>0.605469</td>\n",
       "      <td>0.583333</td>\n",
       "    </tr>\n",
       "    <tr>\n",
       "      <th>7</th>\n",
       "      <td>giraffe</td>\n",
       "      <td>500</td>\n",
       "      <td>500</td>\n",
       "      <td>153</td>\n",
       "      <td>448</td>\n",
       "      <td>21</td>\n",
       "      <td>458</td>\n",
       "      <td>0.601000</td>\n",
       "      <td>0.479000</td>\n",
       "      <td>0.590000</td>\n",
       "      <td>0.874000</td>\n",
       "    </tr>\n",
       "    <tr>\n",
       "      <th>8</th>\n",
       "      <td>zebra</td>\n",
       "      <td>500</td>\n",
       "      <td>500</td>\n",
       "      <td>242</td>\n",
       "      <td>447</td>\n",
       "      <td>203</td>\n",
       "      <td>434</td>\n",
       "      <td>0.689000</td>\n",
       "      <td>0.637000</td>\n",
       "      <td>0.410000</td>\n",
       "      <td>0.462000</td>\n",
       "    </tr>\n",
       "    <tr>\n",
       "      <th>9</th>\n",
       "      <td>elephant</td>\n",
       "      <td>5000</td>\n",
       "      <td>4000</td>\n",
       "      <td>156</td>\n",
       "      <td>4856</td>\n",
       "      <td>658</td>\n",
       "      <td>3716</td>\n",
       "      <td>0.501200</td>\n",
       "      <td>0.546750</td>\n",
       "      <td>0.940000</td>\n",
       "      <td>0.764500</td>\n",
       "    </tr>\n",
       "  </tbody>\n",
       "</table>\n",
       "</div>"
      ],
      "text/plain": [
       "       name  width  height  xmin  xmax  ymin  ymax  center_x  center_y  \\\n",
       "5       dog    768     576   120   329   193   556  0.292318  0.650174   \n",
       "6   bicycle    768     576   115   580    98   434  0.452474  0.461806   \n",
       "7   giraffe    500     500   153   448    21   458  0.601000  0.479000   \n",
       "8     zebra    500     500   242   447   203   434  0.689000  0.637000   \n",
       "9  elephant   5000    4000   156  4856   658  3716  0.501200  0.546750   \n",
       "\n",
       "          w         h  \n",
       "5  0.272135  0.630208  \n",
       "6  0.605469  0.583333  \n",
       "7  0.590000  0.874000  \n",
       "8  0.410000  0.462000  \n",
       "9  0.940000  0.764500  "
      ]
     },
     "execution_count": 31,
     "metadata": {},
     "output_type": "execute_result"
    }
   ],
   "source": [
    "train_df.head()"
   ]
  },
  {
   "cell_type": "code",
   "execution_count": 32,
   "id": "78d0326a",
   "metadata": {},
   "outputs": [
    {
     "data": {
      "text/html": [
       "<div>\n",
       "<style scoped>\n",
       "    .dataframe tbody tr th:only-of-type {\n",
       "        vertical-align: middle;\n",
       "    }\n",
       "\n",
       "    .dataframe tbody tr th {\n",
       "        vertical-align: top;\n",
       "    }\n",
       "\n",
       "    .dataframe thead th {\n",
       "        text-align: right;\n",
       "    }\n",
       "</style>\n",
       "<table border=\"1\" class=\"dataframe\">\n",
       "  <thead>\n",
       "    <tr style=\"text-align: right;\">\n",
       "      <th></th>\n",
       "      <th>name</th>\n",
       "      <th>width</th>\n",
       "      <th>height</th>\n",
       "      <th>xmin</th>\n",
       "      <th>xmax</th>\n",
       "      <th>ymin</th>\n",
       "      <th>ymax</th>\n",
       "      <th>center_x</th>\n",
       "      <th>center_y</th>\n",
       "      <th>w</th>\n",
       "      <th>h</th>\n",
       "    </tr>\n",
       "  </thead>\n",
       "  <tbody>\n",
       "    <tr>\n",
       "      <th>0</th>\n",
       "      <td>car</td>\n",
       "      <td>1920</td>\n",
       "      <td>1200</td>\n",
       "      <td>88</td>\n",
       "      <td>1770</td>\n",
       "      <td>128</td>\n",
       "      <td>1082</td>\n",
       "      <td>0.483854</td>\n",
       "      <td>0.504167</td>\n",
       "      <td>0.876042</td>\n",
       "      <td>0.795000</td>\n",
       "    </tr>\n",
       "    <tr>\n",
       "      <th>1</th>\n",
       "      <td>car</td>\n",
       "      <td>1280</td>\n",
       "      <td>821</td>\n",
       "      <td>17</td>\n",
       "      <td>391</td>\n",
       "      <td>387</td>\n",
       "      <td>641</td>\n",
       "      <td>0.159375</td>\n",
       "      <td>0.626066</td>\n",
       "      <td>0.292187</td>\n",
       "      <td>0.309379</td>\n",
       "    </tr>\n",
       "    <tr>\n",
       "      <th>2</th>\n",
       "      <td>car</td>\n",
       "      <td>1280</td>\n",
       "      <td>821</td>\n",
       "      <td>321</td>\n",
       "      <td>733</td>\n",
       "      <td>405</td>\n",
       "      <td>615</td>\n",
       "      <td>0.411719</td>\n",
       "      <td>0.621194</td>\n",
       "      <td>0.321875</td>\n",
       "      <td>0.255786</td>\n",
       "    </tr>\n",
       "    <tr>\n",
       "      <th>3</th>\n",
       "      <td>car</td>\n",
       "      <td>1280</td>\n",
       "      <td>821</td>\n",
       "      <td>619</td>\n",
       "      <td>1027</td>\n",
       "      <td>408</td>\n",
       "      <td>586</td>\n",
       "      <td>0.642969</td>\n",
       "      <td>0.605359</td>\n",
       "      <td>0.318750</td>\n",
       "      <td>0.216809</td>\n",
       "    </tr>\n",
       "    <tr>\n",
       "      <th>4</th>\n",
       "      <td>car</td>\n",
       "      <td>1280</td>\n",
       "      <td>821</td>\n",
       "      <td>880</td>\n",
       "      <td>1280</td>\n",
       "      <td>405</td>\n",
       "      <td>583</td>\n",
       "      <td>0.843750</td>\n",
       "      <td>0.601705</td>\n",
       "      <td>0.312500</td>\n",
       "      <td>0.216809</td>\n",
       "    </tr>\n",
       "  </tbody>\n",
       "</table>\n",
       "</div>"
      ],
      "text/plain": [
       "  name  width  height  xmin  xmax  ymin  ymax  center_x  center_y         w  \\\n",
       "0  car   1920    1200    88  1770   128  1082  0.483854  0.504167  0.876042   \n",
       "1  car   1280     821    17   391   387   641  0.159375  0.626066  0.292187   \n",
       "2  car   1280     821   321   733   405   615  0.411719  0.621194  0.321875   \n",
       "3  car   1280     821   619  1027   408   586  0.642969  0.605359  0.318750   \n",
       "4  car   1280     821   880  1280   405   583  0.843750  0.601705  0.312500   \n",
       "\n",
       "          h  \n",
       "0  0.795000  \n",
       "1  0.309379  \n",
       "2  0.255786  \n",
       "3  0.216809  \n",
       "4  0.216809  "
      ]
     },
     "execution_count": 32,
     "metadata": {},
     "output_type": "execute_result"
    }
   ],
   "source": [
    "test_df.head()"
   ]
  },
  {
   "cell_type": "code",
   "execution_count": 33,
   "id": "87a6d298",
   "metadata": {},
   "outputs": [],
   "source": [
    "#Assign id number to object names\n",
    "def label_encoding(x):\n",
    "    label ={'person':0 , 'car':1,'chair':2,'bottle':3,'bottle':3,'elephant':4,'giraff':5,'zebra':6,'horse':7}\n",
    "    return label.get(x, -1)\n"
   ]
  },
  {
   "cell_type": "code",
   "execution_count": 34,
   "id": "faea0fc9",
   "metadata": {},
   "outputs": [
    {
     "name": "stderr",
     "output_type": "stream",
     "text": [
      "C:\\Users\\Aditya\\AppData\\Local\\Temp\\ipykernel_25000\\3116627190.py:1: SettingWithCopyWarning: \n",
      "A value is trying to be set on a copy of a slice from a DataFrame.\n",
      "Try using .loc[row_indexer,col_indexer] = value instead\n",
      "\n",
      "See the caveats in the documentation: https://pandas.pydata.org/pandas-docs/stable/user_guide/indexing.html#returning-a-view-versus-a-copy\n",
      "  train_df['id'] = train_df['name'].apply(label_encoding)\n",
      "C:\\Users\\Aditya\\AppData\\Local\\Temp\\ipykernel_25000\\3116627190.py:2: SettingWithCopyWarning: \n",
      "A value is trying to be set on a copy of a slice from a DataFrame.\n",
      "Try using .loc[row_indexer,col_indexer] = value instead\n",
      "\n",
      "See the caveats in the documentation: https://pandas.pydata.org/pandas-docs/stable/user_guide/indexing.html#returning-a-view-versus-a-copy\n",
      "  test_df['id'] = test_df['name'].apply(label_encoding)\n"
     ]
    }
   ],
   "source": [
    "train_df['id'] = train_df['name'].apply(label_encoding)\n",
    "test_df['id'] = test_df['name'].apply(label_encoding)"
   ]
  },
  {
   "cell_type": "code",
   "execution_count": 35,
   "id": "637a9649",
   "metadata": {},
   "outputs": [],
   "source": [
    "train_df = train_df.copy()\n",
    "test_df = test_df.copy()\n",
    "\n",
    "train_df.loc[:, 'id'] = train_df['name'].apply(label_encoding)\n",
    "test_df.loc[:, 'id'] = test_df['name'].apply(label_encoding)\n"
   ]
  },
  {
   "cell_type": "code",
   "execution_count": 36,
   "id": "37025dbb",
   "metadata": {},
   "outputs": [
    {
     "data": {
      "text/html": [
       "<div>\n",
       "<style scoped>\n",
       "    .dataframe tbody tr th:only-of-type {\n",
       "        vertical-align: middle;\n",
       "    }\n",
       "\n",
       "    .dataframe tbody tr th {\n",
       "        vertical-align: top;\n",
       "    }\n",
       "\n",
       "    .dataframe thead th {\n",
       "        text-align: right;\n",
       "    }\n",
       "</style>\n",
       "<table border=\"1\" class=\"dataframe\">\n",
       "  <thead>\n",
       "    <tr style=\"text-align: right;\">\n",
       "      <th></th>\n",
       "      <th>name</th>\n",
       "      <th>width</th>\n",
       "      <th>height</th>\n",
       "      <th>xmin</th>\n",
       "      <th>xmax</th>\n",
       "      <th>ymin</th>\n",
       "      <th>ymax</th>\n",
       "      <th>center_x</th>\n",
       "      <th>center_y</th>\n",
       "      <th>w</th>\n",
       "      <th>h</th>\n",
       "      <th>id</th>\n",
       "    </tr>\n",
       "  </thead>\n",
       "  <tbody>\n",
       "    <tr>\n",
       "      <th>5</th>\n",
       "      <td>dog</td>\n",
       "      <td>768</td>\n",
       "      <td>576</td>\n",
       "      <td>120</td>\n",
       "      <td>329</td>\n",
       "      <td>193</td>\n",
       "      <td>556</td>\n",
       "      <td>0.292318</td>\n",
       "      <td>0.650174</td>\n",
       "      <td>0.272135</td>\n",
       "      <td>0.630208</td>\n",
       "      <td>-1</td>\n",
       "    </tr>\n",
       "    <tr>\n",
       "      <th>6</th>\n",
       "      <td>bicycle</td>\n",
       "      <td>768</td>\n",
       "      <td>576</td>\n",
       "      <td>115</td>\n",
       "      <td>580</td>\n",
       "      <td>98</td>\n",
       "      <td>434</td>\n",
       "      <td>0.452474</td>\n",
       "      <td>0.461806</td>\n",
       "      <td>0.605469</td>\n",
       "      <td>0.583333</td>\n",
       "      <td>-1</td>\n",
       "    </tr>\n",
       "    <tr>\n",
       "      <th>7</th>\n",
       "      <td>giraffe</td>\n",
       "      <td>500</td>\n",
       "      <td>500</td>\n",
       "      <td>153</td>\n",
       "      <td>448</td>\n",
       "      <td>21</td>\n",
       "      <td>458</td>\n",
       "      <td>0.601000</td>\n",
       "      <td>0.479000</td>\n",
       "      <td>0.590000</td>\n",
       "      <td>0.874000</td>\n",
       "      <td>-1</td>\n",
       "    </tr>\n",
       "    <tr>\n",
       "      <th>8</th>\n",
       "      <td>zebra</td>\n",
       "      <td>500</td>\n",
       "      <td>500</td>\n",
       "      <td>242</td>\n",
       "      <td>447</td>\n",
       "      <td>203</td>\n",
       "      <td>434</td>\n",
       "      <td>0.689000</td>\n",
       "      <td>0.637000</td>\n",
       "      <td>0.410000</td>\n",
       "      <td>0.462000</td>\n",
       "      <td>6</td>\n",
       "    </tr>\n",
       "    <tr>\n",
       "      <th>9</th>\n",
       "      <td>elephant</td>\n",
       "      <td>5000</td>\n",
       "      <td>4000</td>\n",
       "      <td>156</td>\n",
       "      <td>4856</td>\n",
       "      <td>658</td>\n",
       "      <td>3716</td>\n",
       "      <td>0.501200</td>\n",
       "      <td>0.546750</td>\n",
       "      <td>0.940000</td>\n",
       "      <td>0.764500</td>\n",
       "      <td>4</td>\n",
       "    </tr>\n",
       "    <tr>\n",
       "      <th>10</th>\n",
       "      <td>eagle</td>\n",
       "      <td>773</td>\n",
       "      <td>512</td>\n",
       "      <td>118</td>\n",
       "      <td>641</td>\n",
       "      <td>37</td>\n",
       "      <td>474</td>\n",
       "      <td>0.490944</td>\n",
       "      <td>0.499023</td>\n",
       "      <td>0.676585</td>\n",
       "      <td>0.853516</td>\n",
       "      <td>-1</td>\n",
       "    </tr>\n",
       "    <tr>\n",
       "      <th>14</th>\n",
       "      <td>person</td>\n",
       "      <td>4410</td>\n",
       "      <td>2556</td>\n",
       "      <td>3161</td>\n",
       "      <td>3800</td>\n",
       "      <td>757</td>\n",
       "      <td>1898</td>\n",
       "      <td>0.789229</td>\n",
       "      <td>0.519366</td>\n",
       "      <td>0.144898</td>\n",
       "      <td>0.446401</td>\n",
       "      <td>0</td>\n",
       "    </tr>\n",
       "    <tr>\n",
       "      <th>15</th>\n",
       "      <td>person</td>\n",
       "      <td>4410</td>\n",
       "      <td>2556</td>\n",
       "      <td>2750</td>\n",
       "      <td>3103</td>\n",
       "      <td>886</td>\n",
       "      <td>1822</td>\n",
       "      <td>0.663605</td>\n",
       "      <td>0.529734</td>\n",
       "      <td>0.080045</td>\n",
       "      <td>0.366197</td>\n",
       "      <td>0</td>\n",
       "    </tr>\n",
       "    <tr>\n",
       "      <th>16</th>\n",
       "      <td>person</td>\n",
       "      <td>4410</td>\n",
       "      <td>2556</td>\n",
       "      <td>432</td>\n",
       "      <td>947</td>\n",
       "      <td>766</td>\n",
       "      <td>1510</td>\n",
       "      <td>0.156349</td>\n",
       "      <td>0.445227</td>\n",
       "      <td>0.116780</td>\n",
       "      <td>0.291080</td>\n",
       "      <td>0</td>\n",
       "    </tr>\n",
       "    <tr>\n",
       "      <th>17</th>\n",
       "      <td>person</td>\n",
       "      <td>4410</td>\n",
       "      <td>2556</td>\n",
       "      <td>2147</td>\n",
       "      <td>2461</td>\n",
       "      <td>1128</td>\n",
       "      <td>1536</td>\n",
       "      <td>0.522449</td>\n",
       "      <td>0.521127</td>\n",
       "      <td>0.071202</td>\n",
       "      <td>0.159624</td>\n",
       "      <td>0</td>\n",
       "    </tr>\n",
       "  </tbody>\n",
       "</table>\n",
       "</div>"
      ],
      "text/plain": [
       "        name  width  height  xmin  xmax  ymin  ymax  center_x  center_y  \\\n",
       "5        dog    768     576   120   329   193   556  0.292318  0.650174   \n",
       "6    bicycle    768     576   115   580    98   434  0.452474  0.461806   \n",
       "7    giraffe    500     500   153   448    21   458  0.601000  0.479000   \n",
       "8      zebra    500     500   242   447   203   434  0.689000  0.637000   \n",
       "9   elephant   5000    4000   156  4856   658  3716  0.501200  0.546750   \n",
       "10     eagle    773     512   118   641    37   474  0.490944  0.499023   \n",
       "14    person   4410    2556  3161  3800   757  1898  0.789229  0.519366   \n",
       "15    person   4410    2556  2750  3103   886  1822  0.663605  0.529734   \n",
       "16    person   4410    2556   432   947   766  1510  0.156349  0.445227   \n",
       "17    person   4410    2556  2147  2461  1128  1536  0.522449  0.521127   \n",
       "\n",
       "           w         h  id  \n",
       "5   0.272135  0.630208  -1  \n",
       "6   0.605469  0.583333  -1  \n",
       "7   0.590000  0.874000  -1  \n",
       "8   0.410000  0.462000   6  \n",
       "9   0.940000  0.764500   4  \n",
       "10  0.676585  0.853516  -1  \n",
       "14  0.144898  0.446401   0  \n",
       "15  0.080045  0.366197   0  \n",
       "16  0.116780  0.291080   0  \n",
       "17  0.071202  0.159624   0  "
      ]
     },
     "execution_count": 36,
     "metadata": {},
     "output_type": "execute_result"
    }
   ],
   "source": [
    "train_df.head(10)"
   ]
  },
  {
   "cell_type": "code",
   "execution_count": null,
   "id": "a0c6ee8c",
   "metadata": {},
   "outputs": [],
   "source": []
  },
  {
   "cell_type": "code",
   "execution_count": 37,
   "id": "2a44423a",
   "metadata": {},
   "outputs": [],
   "source": [
    "#save image and label in text "
   ]
  },
  {
   "cell_type": "code",
   "execution_count": 38,
   "id": "45ec24d8",
   "metadata": {},
   "outputs": [],
   "source": [
    "import os \n",
    "from shutil import move \n"
   ]
  },
  {
   "cell_type": "code",
   "execution_count": 39,
   "id": "f890c4f9",
   "metadata": {},
   "outputs": [
    {
     "ename": "FileExistsError",
     "evalue": "[WinError 183] Cannot create a file when that file already exists: 'C:\\\\Users\\\\Aditya\\\\Projects\\\\TY projects\\\\datapreparation\\\\data_images\\\\train'",
     "output_type": "error",
     "traceback": [
      "\u001b[1;31m---------------------------------------------------------------------------\u001b[0m",
      "\u001b[1;31mFileExistsError\u001b[0m                           Traceback (most recent call last)",
      "\u001b[1;32m~\\AppData\\Local\\Temp\\ipykernel_25000\\3408940183.py\u001b[0m in \u001b[0;36m<module>\u001b[1;34m\u001b[0m\n\u001b[0;32m      2\u001b[0m \u001b[0mtest_folder\u001b[0m \u001b[1;33m=\u001b[0m \u001b[1;34m'C:\\\\Users\\\\Aditya\\\\Projects\\\\TY projects\\\\datapreparation\\\\data_images\\\\test'\u001b[0m\u001b[1;33m\u001b[0m\u001b[1;33m\u001b[0m\u001b[0m\n\u001b[0;32m      3\u001b[0m \u001b[1;33m\u001b[0m\u001b[0m\n\u001b[1;32m----> 4\u001b[1;33m \u001b[0mos\u001b[0m\u001b[1;33m.\u001b[0m\u001b[0mmkdir\u001b[0m\u001b[1;33m(\u001b[0m\u001b[0mtrain_folder\u001b[0m\u001b[1;33m)\u001b[0m\u001b[1;33m\u001b[0m\u001b[1;33m\u001b[0m\u001b[0m\n\u001b[0m\u001b[0;32m      5\u001b[0m \u001b[0mos\u001b[0m\u001b[1;33m.\u001b[0m\u001b[0mmkdir\u001b[0m\u001b[1;33m(\u001b[0m\u001b[0mtest_folder\u001b[0m\u001b[1;33m)\u001b[0m\u001b[1;33m\u001b[0m\u001b[1;33m\u001b[0m\u001b[0m\n",
      "\u001b[1;31mFileExistsError\u001b[0m: [WinError 183] Cannot create a file when that file already exists: 'C:\\\\Users\\\\Aditya\\\\Projects\\\\TY projects\\\\datapreparation\\\\data_images\\\\train'"
     ]
    }
   ],
   "source": [
    "train_folder = 'C:\\\\Users\\\\Aditya\\Projects\\\\TY projects\\\\datapreparation\\\\data_images\\\\train'\n",
    "test_folder = 'C:\\\\Users\\\\Aditya\\\\Projects\\\\TY projects\\\\datapreparation\\\\data_images\\\\test'\n",
    "\n",
    "os.mkdir(train_folder)\n",
    "os.mkdir(test_folder)"
   ]
  },
  {
   "cell_type": "code",
   "execution_count": null,
   "id": "9d2e88d4",
   "metadata": {},
   "outputs": [],
   "source": [
    "cols = ['name','id','center_x','center_y','w','h']\n",
    "groupby_obj_train = train_df[cols].groupby('name')\n",
    "groupby_obj_test = test_df[cols].groupby('name')\n"
   ]
  },
  {
   "cell_type": "code",
   "execution_count": 40,
   "id": "a7a25b89",
   "metadata": {},
   "outputs": [
    {
     "ename": "NameError",
     "evalue": "name 'groupby_obj_train' is not defined",
     "output_type": "error",
     "traceback": [
      "\u001b[1;31m---------------------------------------------------------------------------\u001b[0m",
      "\u001b[1;31mNameError\u001b[0m                                 Traceback (most recent call last)",
      "\u001b[1;32m~\\AppData\\Local\\Temp\\ipykernel_25000\\2154386223.py\u001b[0m in \u001b[0;36m<module>\u001b[1;34m\u001b[0m\n\u001b[1;32m----> 1\u001b[1;33m \u001b[0mgroupby_obj_train\u001b[0m\u001b[1;33m.\u001b[0m\u001b[0mget_group\u001b[0m\u001b[1;33m(\u001b[0m\u001b[1;34m'car'\u001b[0m\u001b[1;33m)\u001b[0m\u001b[1;33m.\u001b[0m\u001b[0mset_index\u001b[0m\u001b[1;33m(\u001b[0m\u001b[1;34m'name'\u001b[0m\u001b[1;33m)\u001b[0m\u001b[1;33m.\u001b[0m\u001b[0mto_csv\u001b[0m\u001b[1;33m(\u001b[0m\u001b[1;34m'smaple.txt'\u001b[0m\u001b[1;33m,\u001b[0m\u001b[0mindex\u001b[0m\u001b[1;33m=\u001b[0m\u001b[1;32mFalse\u001b[0m\u001b[1;33m,\u001b[0m\u001b[0mheader\u001b[0m\u001b[1;33m=\u001b[0m\u001b[1;32mFalse\u001b[0m\u001b[1;33m)\u001b[0m\u001b[1;33m\u001b[0m\u001b[1;33m\u001b[0m\u001b[0m\n\u001b[0m",
      "\u001b[1;31mNameError\u001b[0m: name 'groupby_obj_train' is not defined"
     ]
    }
   ],
   "source": [
    "groupby_obj_train.get_group('car').set_index('name').to_csv('smaple.txt',index=False,header=False)"
   ]
  },
  {
   "cell_type": "code",
   "execution_count": 41,
   "id": "cdbda791",
   "metadata": {},
   "outputs": [],
   "source": [
    "def save_data(filename,folder_path, group_obj):\n",
    "    src = os.path.join('data_images',filename)\n",
    "    dst = os.path.join(folder_path, filename)\n",
    "    move(src,dst)\n",
    "    \n",
    "    text_filename = os.path.join(folder_path,\n",
    "                                 os.path.splittext(filename)[0]+'.txt')\n",
    "    group_obj.get_group(filename).set_index('name').to_csv(text_filename, sep=' ', index=False, header=False)\n",
    "\n",
    "    \n",
    "    "
   ]
  },
  {
   "cell_type": "code",
   "execution_count": 42,
   "id": "846aa3d8",
   "metadata": {},
   "outputs": [
    {
     "ename": "NameError",
     "evalue": "name 'groupby_obj_train' is not defined",
     "output_type": "error",
     "traceback": [
      "\u001b[1;31m---------------------------------------------------------------------------\u001b[0m",
      "\u001b[1;31mNameError\u001b[0m                                 Traceback (most recent call last)",
      "\u001b[1;32m~\\AppData\\Local\\Temp\\ipykernel_25000\\1932567099.py\u001b[0m in \u001b[0;36m<module>\u001b[1;34m\u001b[0m\n\u001b[1;32m----> 1\u001b[1;33m \u001b[0mfilename_series\u001b[0m \u001b[1;33m=\u001b[0m \u001b[0mpd\u001b[0m\u001b[1;33m.\u001b[0m\u001b[0mSeries\u001b[0m\u001b[1;33m(\u001b[0m\u001b[0mgroupby_obj_train\u001b[0m\u001b[1;33m.\u001b[0m\u001b[0mgroups\u001b[0m\u001b[1;33m.\u001b[0m\u001b[0mkeys\u001b[0m\u001b[1;33m(\u001b[0m\u001b[1;33m)\u001b[0m\u001b[1;33m)\u001b[0m\u001b[1;33m\u001b[0m\u001b[1;33m\u001b[0m\u001b[0m\n\u001b[0m",
      "\u001b[1;31mNameError\u001b[0m: name 'groupby_obj_train' is not defined"
     ]
    }
   ],
   "source": [
    "filename_series = pd.Series(groupby_obj_train.groups.keys())"
   ]
  },
  {
   "cell_type": "code",
   "execution_count": 43,
   "id": "38982cb2",
   "metadata": {},
   "outputs": [
    {
     "ename": "NameError",
     "evalue": "name 'filename_series' is not defined",
     "output_type": "error",
     "traceback": [
      "\u001b[1;31m---------------------------------------------------------------------------\u001b[0m",
      "\u001b[1;31mNameError\u001b[0m                                 Traceback (most recent call last)",
      "\u001b[1;32m~\\AppData\\Local\\Temp\\ipykernel_25000\\1549200029.py\u001b[0m in \u001b[0;36m<module>\u001b[1;34m\u001b[0m\n\u001b[1;32m----> 1\u001b[1;33m \u001b[0mfilename_series\u001b[0m\u001b[1;33m.\u001b[0m\u001b[0mapply\u001b[0m\u001b[1;33m(\u001b[0m\u001b[0msave_data\u001b[0m\u001b[1;33m,\u001b[0m\u001b[0margs\u001b[0m\u001b[1;33m=\u001b[0m \u001b[1;33m(\u001b[0m\u001b[0mtrain_folder\u001b[0m\u001b[1;33m,\u001b[0m\u001b[0mgroupby_obj_train\u001b[0m\u001b[1;33m)\u001b[0m\u001b[1;33m)\u001b[0m\u001b[1;33m\u001b[0m\u001b[1;33m\u001b[0m\u001b[0m\n\u001b[0m",
      "\u001b[1;31mNameError\u001b[0m: name 'filename_series' is not defined"
     ]
    }
   ],
   "source": [
    "filename_series.apply(save_data,args= (train_folder,groupby_obj_train))"
   ]
  },
  {
   "cell_type": "code",
   "execution_count": 44,
   "id": "10851d37",
   "metadata": {},
   "outputs": [
    {
     "name": "stdout",
     "output_type": "stream",
     "text": [
      "Error: Source file C:\\\\Users\\\\Aditya\\\\Projects\\\\TY projects\\\\datapreparation\\\\data_images\\\\002.jpg not found\n"
     ]
    }
   ],
   "source": [
    "import os\n",
    "import shutil\n",
    "\n",
    "# Function to move a file from source to destination\n",
    "def move_file(src, dst):\n",
    "    try:\n",
    "        # Check if the source file exists\n",
    "        if os.path.exists(src):\n",
    "            # Move the file to the destination\n",
    "            shutil.move(src, dst)\n",
    "            print(f\"File moved successfully from {src} to {dst}\")\n",
    "        else:\n",
    "            print(f\"Error: Source file {src} not found\")\n",
    "    except Exception as e:\n",
    "        print(f\"An error occurred: {e}\")\n",
    "\n",
    "# Example usage\n",
    "source_file = r'C:\\\\Users\\\\Aditya\\\\Projects\\\\TY projects\\\\datapreparation\\\\data_images\\\\002.jpg'  # Update the source file path\n",
    "destination_file = r'C:\\\\Users\\\\Aditya\\\\Projects\\\\TY projects\\\\datapreparation\\\\data_images\\\\train\\\\002'  # Update the destination file path\n",
    "move_file(source_file, destination_file)\n",
    "\n"
   ]
  },
  {
   "cell_type": "code",
   "execution_count": 45,
   "id": "abc9a90e",
   "metadata": {},
   "outputs": [
    {
     "name": "stdout",
     "output_type": "stream",
     "text": [
      "An error occurred: Cannot move a directory 'C:\\\\Users\\\\Aditya\\\\Projects\\\\TY projects\\\\datapreparation\\\\data_images\\\\' into itself 'C:\\\\Users\\\\Aditya\\\\Projects\\\\TY projects\\\\datapreparation\\\\data_images\\\\train\\\\bicycle'.\n"
     ]
    }
   ],
   "source": [
    "# Example with corrected source file path\n",
    "source_file = r'C:\\\\Users\\\\Aditya\\\\Projects\\\\TY projects\\\\datapreparation\\\\data_images\\\\'\n",
    "destination_file = r'C:\\\\Users\\\\Aditya\\\\Projects\\\\TY projects\\\\datapreparation\\\\data_images\\\\train\\\\bicycle'\n",
    "move_file(source_file, destination_file)\n"
   ]
  },
  {
   "cell_type": "code",
   "execution_count": null,
   "id": "c5708731",
   "metadata": {},
   "outputs": [],
   "source": []
  },
  {
   "cell_type": "code",
   "execution_count": null,
   "id": "05ecb6ae",
   "metadata": {},
   "outputs": [],
   "source": [
    "\n",
    "\n",
    "\n"
   ]
  },
  {
   "cell_type": "code",
   "execution_count": null,
   "id": "64ac8a50",
   "metadata": {},
   "outputs": [],
   "source": []
  },
  {
   "cell_type": "code",
   "execution_count": null,
   "id": "6a5cfc6f",
   "metadata": {},
   "outputs": [],
   "source": []
  },
  {
   "cell_type": "code",
   "execution_count": null,
   "id": "7c7a330b",
   "metadata": {},
   "outputs": [],
   "source": []
  },
  {
   "cell_type": "code",
   "execution_count": null,
   "id": "9d76e957",
   "metadata": {},
   "outputs": [],
   "source": []
  },
  {
   "cell_type": "code",
   "execution_count": null,
   "id": "c56e209a",
   "metadata": {},
   "outputs": [],
   "source": []
  }
 ],
 "metadata": {
  "kernelspec": {
   "display_name": "Python 3 (ipykernel)",
   "language": "python",
   "name": "python3"
  },
  "language_info": {
   "codemirror_mode": {
    "name": "ipython",
    "version": 3
   },
   "file_extension": ".py",
   "mimetype": "text/x-python",
   "name": "python",
   "nbconvert_exporter": "python",
   "pygments_lexer": "ipython3",
   "version": "3.9.13"
  }
 },
 "nbformat": 4,
 "nbformat_minor": 5
}
