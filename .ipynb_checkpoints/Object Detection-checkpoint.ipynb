{
 "cells": [
  {
   "cell_type": "code",
   "execution_count": 2,
   "id": "52da3969",
   "metadata": {},
   "outputs": [],
   "source": [
    "import os \n",
    "from glob import glob \n",
    "import pandas as pd \n",
    "from functools import reduce \n",
    "from xml.etree import ElementTree as et "
   ]
  },
  {
   "cell_type": "code",
   "execution_count": 3,
   "id": "d62e203b",
   "metadata": {},
   "outputs": [],
   "source": [
    "xmlfiles = glob('C:\\\\Users\\\\Aditya\\\\Projects\\\\TY projects\\\\datapreparation\\\\data_images\\\\*.xml')\n",
    "#data cleaning \n",
    "replace_text = lambda x: x.replace('\\\\','/')\n",
    "xmlfiles = list(map(replace_text,xmlfiles))"
   ]
  },
  {
   "cell_type": "code",
   "execution_count": 4,
   "id": "7ebeacd5",
   "metadata": {
    "scrolled": true
   },
   "outputs": [
    {
     "data": {
      "text/plain": [
       "['C:/Users/Aditya/Projects/TY projects/datapreparation/data_images/sample_car.xml',\n",
       " 'C:/Users/Aditya/Projects/TY projects/datapreparation/data_images/sample_computer.xml',\n",
       " 'C:/Users/Aditya/Projects/TY projects/datapreparation/data_images/sample_eagle.xml',\n",
       " 'C:/Users/Aditya/Projects/TY projects/datapreparation/data_images/sample_giraffe.xml',\n",
       " 'C:/Users/Aditya/Projects/TY projects/datapreparation/data_images/sample_horses.xml',\n",
       " 'C:/Users/Aditya/Projects/TY projects/datapreparation/data_images/sample_person.xml']"
      ]
     },
     "execution_count": 4,
     "metadata": {},
     "output_type": "execute_result"
    }
   ],
   "source": [
    "xmlfiles"
   ]
  },
  {
   "cell_type": "code",
   "execution_count": 5,
   "id": "f75e0150",
   "metadata": {},
   "outputs": [],
   "source": [
    "#read xml file and extract details \n",
    "tree = et.parse('C:/Users/Aditya/Projects/TY projects/datapreparation/data_images/sample_car.xml')\n",
    "root = tree.getroot()"
   ]
  },
  {
   "cell_type": "code",
   "execution_count": null,
   "id": "49cbf3c6",
   "metadata": {},
   "outputs": [],
   "source": []
  },
  {
   "cell_type": "code",
   "execution_count": 6,
   "id": "630c76e8",
   "metadata": {},
   "outputs": [],
   "source": [
    "def extract_text(filename):\n",
    "    tree = et.parse(filename)  # Use the provided filename\n",
    "    root = tree.getroot()\n",
    "    \n",
    "    # Extract file details\n",
    "    image_name = root.find('filename').text\n",
    "    \n",
    "    # Width and height\n",
    "    size = root.find('size')\n",
    "    width = size.find('width').text\n",
    "    height = size.find('height').text\n",
    "    parser = []\n",
    "    # Extract annotations\n",
    "    objs = root.findall('object')\n",
    "    for obj in objs:\n",
    "        name = obj.find('name').text\n",
    "        bbox = obj.find('bndbox')\n",
    "        xmin = bbox.find('xmin').text\n",
    "        ymin = bbox.find('ymin').text\n",
    "        xmax = bbox.find('xmax').text\n",
    "        ymax = bbox.find('ymax').text\n",
    "        parser.append([name,width,height,xmin,xmax,ymin,ymax ])\n",
    "    \n",
    "    return parser\n"
   ]
  },
  {
   "cell_type": "code",
   "execution_count": 7,
   "id": "29a59b7c",
   "metadata": {},
   "outputs": [],
   "source": [
    "parser_all = list(map(extract_text,xmlfiles))"
   ]
  },
  {
   "cell_type": "code",
   "execution_count": 8,
   "id": "9ddc0723",
   "metadata": {},
   "outputs": [],
   "source": [
    "data = reduce(lambda x,y : x+y,parser_all)"
   ]
  },
  {
   "cell_type": "code",
   "execution_count": 9,
   "id": "70f08d90",
   "metadata": {},
   "outputs": [],
   "source": [
    "df = pd.DataFrame(data,columns = ['name','width','height','xmin','xmax','ymin','ymax'])\n"
   ]
  },
  {
   "cell_type": "code",
   "execution_count": 10,
   "id": "ffc5cec6",
   "metadata": {},
   "outputs": [
    {
     "data": {
      "text/html": [
       "<div>\n",
       "<style scoped>\n",
       "    .dataframe tbody tr th:only-of-type {\n",
       "        vertical-align: middle;\n",
       "    }\n",
       "\n",
       "    .dataframe tbody tr th {\n",
       "        vertical-align: top;\n",
       "    }\n",
       "\n",
       "    .dataframe thead th {\n",
       "        text-align: right;\n",
       "    }\n",
       "</style>\n",
       "<table border=\"1\" class=\"dataframe\">\n",
       "  <thead>\n",
       "    <tr style=\"text-align: right;\">\n",
       "      <th></th>\n",
       "      <th>name</th>\n",
       "      <th>width</th>\n",
       "      <th>height</th>\n",
       "      <th>xmin</th>\n",
       "      <th>xmax</th>\n",
       "      <th>ymin</th>\n",
       "      <th>ymax</th>\n",
       "    </tr>\n",
       "  </thead>\n",
       "  <tbody>\n",
       "    <tr>\n",
       "      <th>0</th>\n",
       "      <td>car</td>\n",
       "      <td>1920</td>\n",
       "      <td>1200</td>\n",
       "      <td>96</td>\n",
       "      <td>1834</td>\n",
       "      <td>128</td>\n",
       "      <td>1078</td>\n",
       "    </tr>\n",
       "    <tr>\n",
       "      <th>1</th>\n",
       "      <td>Computer</td>\n",
       "      <td>500</td>\n",
       "      <td>375</td>\n",
       "      <td>86</td>\n",
       "      <td>422</td>\n",
       "      <td>54</td>\n",
       "      <td>367</td>\n",
       "    </tr>\n",
       "    <tr>\n",
       "      <th>2</th>\n",
       "      <td>Egale</td>\n",
       "      <td>773</td>\n",
       "      <td>512</td>\n",
       "      <td>126</td>\n",
       "      <td>653</td>\n",
       "      <td>55</td>\n",
       "      <td>467</td>\n",
       "    </tr>\n",
       "    <tr>\n",
       "      <th>3</th>\n",
       "      <td>giraff</td>\n",
       "      <td>500</td>\n",
       "      <td>500</td>\n",
       "      <td>154</td>\n",
       "      <td>440</td>\n",
       "      <td>17</td>\n",
       "      <td>450</td>\n",
       "    </tr>\n",
       "    <tr>\n",
       "      <th>4</th>\n",
       "      <td>zebra</td>\n",
       "      <td>500</td>\n",
       "      <td>500</td>\n",
       "      <td>250</td>\n",
       "      <td>446</td>\n",
       "      <td>195</td>\n",
       "      <td>455</td>\n",
       "    </tr>\n",
       "  </tbody>\n",
       "</table>\n",
       "</div>"
      ],
      "text/plain": [
       "       name width height xmin  xmax ymin  ymax\n",
       "0       car  1920   1200   96  1834  128  1078\n",
       "1  Computer   500    375   86   422   54   367\n",
       "2     Egale   773    512  126   653   55   467\n",
       "3    giraff   500    500  154   440   17   450\n",
       "4     zebra   500    500  250   446  195   455"
      ]
     },
     "execution_count": 10,
     "metadata": {},
     "output_type": "execute_result"
    }
   ],
   "source": [
    "df.head()"
   ]
  },
  {
   "cell_type": "code",
   "execution_count": 11,
   "id": "3ed96ef2",
   "metadata": {},
   "outputs": [
    {
     "data": {
      "text/plain": [
       "(13, 7)"
      ]
     },
     "execution_count": 11,
     "metadata": {},
     "output_type": "execute_result"
    }
   ],
   "source": [
    "df.shape"
   ]
  },
  {
   "cell_type": "code",
   "execution_count": 12,
   "id": "5e0c9070",
   "metadata": {},
   "outputs": [
    {
     "data": {
      "text/plain": [
       "person      5\n",
       "horse       3\n",
       "car         1\n",
       "Computer    1\n",
       "Egale       1\n",
       "giraff      1\n",
       "zebra       1\n",
       "Name: name, dtype: int64"
      ]
     },
     "execution_count": 12,
     "metadata": {},
     "output_type": "execute_result"
    }
   ],
   "source": [
    "df['name'].value_counts()\n"
   ]
  },
  {
   "cell_type": "code",
   "execution_count": null,
   "id": "1aeb0bc6",
   "metadata": {},
   "outputs": [],
   "source": []
  },
  {
   "cell_type": "code",
   "execution_count": 13,
   "id": "86ea0b8e",
   "metadata": {},
   "outputs": [
    {
     "name": "stdout",
     "output_type": "stream",
     "text": [
      "<class 'pandas.core.frame.DataFrame'>\n",
      "RangeIndex: 13 entries, 0 to 12\n",
      "Data columns (total 7 columns):\n",
      " #   Column  Non-Null Count  Dtype \n",
      "---  ------  --------------  ----- \n",
      " 0   name    13 non-null     object\n",
      " 1   width   13 non-null     object\n",
      " 2   height  13 non-null     object\n",
      " 3   xmin    13 non-null     object\n",
      " 4   xmax    13 non-null     object\n",
      " 5   ymin    13 non-null     object\n",
      " 6   ymax    13 non-null     object\n",
      "dtypes: object(7)\n",
      "memory usage: 856.0+ bytes\n"
     ]
    }
   ],
   "source": [
    "df.info()"
   ]
  },
  {
   "cell_type": "code",
   "execution_count": 14,
   "id": "f83b1a7a",
   "metadata": {},
   "outputs": [],
   "source": [
    "# Convert columns to numeric type\n",
    "df['xmax'] = pd.to_numeric(df['xmax'])\n",
    "df['xmin'] = pd.to_numeric(df['xmin'])\n",
    "df['ymax'] = pd.to_numeric(df['ymax'])\n",
    "df['ymin'] = pd.to_numeric(df['ymin'])\n",
    "df['width'] = pd.to_numeric(df['width'])\n",
    "df['height'] = pd.to_numeric(df['height'])"
   ]
  },
  {
   "cell_type": "code",
   "execution_count": 15,
   "id": "6edb3133",
   "metadata": {
    "scrolled": true
   },
   "outputs": [],
   "source": [
    "df['center_x'] = ((df['xmax']+df['xmin'])/2)/df['width']\n",
    "df['center_y'] = ((df['ymax']+df['ymin'])/2)/df['height']\n",
    "                  \n",
    "df['w'] = (df['xmax'] - df['xmin']) / df['width']\n",
    "\n",
    "df['h'] = (df['ymax'] - df['ymin']) / df['height']"
   ]
  },
  {
   "cell_type": "code",
   "execution_count": 16,
   "id": "9bf78084",
   "metadata": {},
   "outputs": [
    {
     "data": {
      "text/html": [
       "<div>\n",
       "<style scoped>\n",
       "    .dataframe tbody tr th:only-of-type {\n",
       "        vertical-align: middle;\n",
       "    }\n",
       "\n",
       "    .dataframe tbody tr th {\n",
       "        vertical-align: top;\n",
       "    }\n",
       "\n",
       "    .dataframe thead th {\n",
       "        text-align: right;\n",
       "    }\n",
       "</style>\n",
       "<table border=\"1\" class=\"dataframe\">\n",
       "  <thead>\n",
       "    <tr style=\"text-align: right;\">\n",
       "      <th></th>\n",
       "      <th>name</th>\n",
       "      <th>width</th>\n",
       "      <th>height</th>\n",
       "      <th>xmin</th>\n",
       "      <th>xmax</th>\n",
       "      <th>ymin</th>\n",
       "      <th>ymax</th>\n",
       "      <th>center_x</th>\n",
       "      <th>center_y</th>\n",
       "      <th>w</th>\n",
       "      <th>h</th>\n",
       "    </tr>\n",
       "  </thead>\n",
       "  <tbody>\n",
       "    <tr>\n",
       "      <th>0</th>\n",
       "      <td>car</td>\n",
       "      <td>1920</td>\n",
       "      <td>1200</td>\n",
       "      <td>96</td>\n",
       "      <td>1834</td>\n",
       "      <td>128</td>\n",
       "      <td>1078</td>\n",
       "      <td>0.502604</td>\n",
       "      <td>0.502500</td>\n",
       "      <td>0.905208</td>\n",
       "      <td>0.791667</td>\n",
       "    </tr>\n",
       "    <tr>\n",
       "      <th>1</th>\n",
       "      <td>Computer</td>\n",
       "      <td>500</td>\n",
       "      <td>375</td>\n",
       "      <td>86</td>\n",
       "      <td>422</td>\n",
       "      <td>54</td>\n",
       "      <td>367</td>\n",
       "      <td>0.508000</td>\n",
       "      <td>0.561333</td>\n",
       "      <td>0.672000</td>\n",
       "      <td>0.834667</td>\n",
       "    </tr>\n",
       "    <tr>\n",
       "      <th>2</th>\n",
       "      <td>Egale</td>\n",
       "      <td>773</td>\n",
       "      <td>512</td>\n",
       "      <td>126</td>\n",
       "      <td>653</td>\n",
       "      <td>55</td>\n",
       "      <td>467</td>\n",
       "      <td>0.503881</td>\n",
       "      <td>0.509766</td>\n",
       "      <td>0.681759</td>\n",
       "      <td>0.804688</td>\n",
       "    </tr>\n",
       "    <tr>\n",
       "      <th>3</th>\n",
       "      <td>giraff</td>\n",
       "      <td>500</td>\n",
       "      <td>500</td>\n",
       "      <td>154</td>\n",
       "      <td>440</td>\n",
       "      <td>17</td>\n",
       "      <td>450</td>\n",
       "      <td>0.594000</td>\n",
       "      <td>0.467000</td>\n",
       "      <td>0.572000</td>\n",
       "      <td>0.866000</td>\n",
       "    </tr>\n",
       "    <tr>\n",
       "      <th>4</th>\n",
       "      <td>zebra</td>\n",
       "      <td>500</td>\n",
       "      <td>500</td>\n",
       "      <td>250</td>\n",
       "      <td>446</td>\n",
       "      <td>195</td>\n",
       "      <td>455</td>\n",
       "      <td>0.696000</td>\n",
       "      <td>0.650000</td>\n",
       "      <td>0.392000</td>\n",
       "      <td>0.520000</td>\n",
       "    </tr>\n",
       "  </tbody>\n",
       "</table>\n",
       "</div>"
      ],
      "text/plain": [
       "       name  width  height  xmin  xmax  ymin  ymax  center_x  center_y  \\\n",
       "0       car   1920    1200    96  1834   128  1078  0.502604  0.502500   \n",
       "1  Computer    500     375    86   422    54   367  0.508000  0.561333   \n",
       "2     Egale    773     512   126   653    55   467  0.503881  0.509766   \n",
       "3    giraff    500     500   154   440    17   450  0.594000  0.467000   \n",
       "4     zebra    500     500   250   446   195   455  0.696000  0.650000   \n",
       "\n",
       "          w         h  \n",
       "0  0.905208  0.791667  \n",
       "1  0.672000  0.834667  \n",
       "2  0.681759  0.804688  \n",
       "3  0.572000  0.866000  \n",
       "4  0.392000  0.520000  "
      ]
     },
     "execution_count": 16,
     "metadata": {},
     "output_type": "execute_result"
    }
   ],
   "source": [
    "df.head()"
   ]
  },
  {
   "cell_type": "code",
   "execution_count": 17,
   "id": "54026574",
   "metadata": {},
   "outputs": [],
   "source": [
    "#Split data into train and test "
   ]
  },
  {
   "cell_type": "code",
   "execution_count": 21,
   "id": "9c375de6",
   "metadata": {},
   "outputs": [
    {
     "data": {
      "text/plain": [
       "0          car\n",
       "1     Computer\n",
       "2        Egale\n",
       "3       giraff\n",
       "4        zebra\n",
       "5        horse\n",
       "6        horse\n",
       "7        horse\n",
       "8       person\n",
       "9       person\n",
       "10      person\n",
       "11      person\n",
       "12      person\n",
       "Name: name, dtype: object"
      ]
     },
     "execution_count": 21,
     "metadata": {},
     "output_type": "execute_result"
    }
   ],
   "source": [
    "df['name']"
   ]
  },
  {
   "cell_type": "code",
   "execution_count": 20,
   "id": "859d32a0",
   "metadata": {},
   "outputs": [
    {
     "name": "stdout",
     "output_type": "stream",
     "text": [
      "Index(['name', 'width', 'height', 'xmin', 'xmax', 'ymin', 'ymax', 'center_x',\n",
      "       'center_y', 'w', 'h'],\n",
      "      dtype='object')\n"
     ]
    }
   ],
   "source": [
    "print(df.columns)\n"
   ]
  },
  {
   "cell_type": "code",
   "execution_count": 24,
   "id": "d8a5dd25",
   "metadata": {},
   "outputs": [
    {
     "name": "stdout",
     "output_type": "stream",
     "text": [
      "13\n"
     ]
    }
   ],
   "source": [
    "\n",
    "\n",
    "# Using shape attribute\n",
    "print(df.shape[0])\n"
   ]
  },
  {
   "cell_type": "code",
   "execution_count": 25,
   "id": "39c69984",
   "metadata": {},
   "outputs": [],
   "source": [
    "image = df['name'].unique()"
   ]
  },
  {
   "cell_type": "code",
   "execution_count": 26,
   "id": "a741abcd",
   "metadata": {},
   "outputs": [
    {
     "ename": "NameError",
     "evalue": "name 'images' is not defined",
     "output_type": "error",
     "traceback": [
      "\u001b[1;31m---------------------------------------------------------------------------\u001b[0m",
      "\u001b[1;31mNameError\u001b[0m                                 Traceback (most recent call last)",
      "\u001b[1;32m~\\AppData\\Local\\Temp\\ipykernel_29544\\2019527866.py\u001b[0m in \u001b[0;36m<module>\u001b[1;34m\u001b[0m\n\u001b[1;32m----> 1\u001b[1;33m \u001b[0mlen\u001b[0m\u001b[1;33m(\u001b[0m\u001b[0mimages\u001b[0m\u001b[1;33m(\u001b[0m\u001b[1;33m)\u001b[0m\u001b[1;33m)\u001b[0m\u001b[1;33m\u001b[0m\u001b[1;33m\u001b[0m\u001b[0m\n\u001b[0m",
      "\u001b[1;31mNameError\u001b[0m: name 'images' is not defined"
     ]
    }
   ],
   "source": [
    "len(images())"
   ]
  },
  {
   "cell_type": "code",
   "execution_count": null,
   "id": "97196c5f",
   "metadata": {},
   "outputs": [],
   "source": []
  }
 ],
 "metadata": {
  "kernelspec": {
   "display_name": "Python 3 (ipykernel)",
   "language": "python",
   "name": "python3"
  },
  "language_info": {
   "codemirror_mode": {
    "name": "ipython",
    "version": 3
   },
   "file_extension": ".py",
   "mimetype": "text/x-python",
   "name": "python",
   "nbconvert_exporter": "python",
   "pygments_lexer": "ipython3",
   "version": "3.9.13"
  }
 },
 "nbformat": 4,
 "nbformat_minor": 5
}
